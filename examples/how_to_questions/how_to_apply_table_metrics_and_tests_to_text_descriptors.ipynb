{
 "cells": [
  {
   "cell_type": "markdown",
   "id": "29489ded",
   "metadata": {},
   "source": [
    "# How to apply tabular metrics and tests to text descriptors?"
   ]
  },
  {
   "cell_type": "code",
   "execution_count": null,
   "id": "997d80b6",
   "metadata": {},
   "outputs": [],
   "source": [
    "import pandas as pd\n",
    "import numpy as np\n",
    "\n",
    "from sklearn import datasets, ensemble, model_selection"
   ]
  },
  {
   "cell_type": "code",
   "execution_count": null,
   "id": "dcacbf00",
   "metadata": {},
   "outputs": [],
   "source": [
    "from evidently import ColumnMapping\n",
    "from evidently.report import Report\n",
    "from evidently.test_suite import TestSuite\n",
    "\n",
    "from evidently.metrics import ColumnSummaryMetric\n",
    "from evidently.metrics import ColumnCorrelationsMetric\n",
    "from evidently.metrics import ColumnDistributionMetric\n",
    "from evidently.metrics import ColumnDriftMetric\n",
    "from evidently.metrics import ColumnValueRangeMetric\n",
    "\n",
    "from evidently.metrics import DatasetCorrelationsMetric\n",
    "from evidently.metrics import DatasetDriftMetric\n",
    "from evidently.metrics import DataDriftTable\n",
    "from evidently.metrics import ClassificationQualityByFeatureTable\n",
    "from evidently.metrics import RegressionErrorBiasTable\n",
    "\n",
    "from evidently.tests import TestColumnDrift\n",
    "from evidently.tests import TestValueRange\n",
    "from evidently.tests import TestNumberOfOutRangeValues\n",
    "from evidently.tests import TestShareOfOutRangeValues\n",
    "from evidently.tests import TestMeanInNSigmas\n",
    "from evidently.tests import TestColumnValueMin\n",
    "from evidently.tests import TestColumnValueMax\n",
    "from evidently.tests import TestColumnValueMean\n",
    "from evidently.tests import TestColumnValueMedian\n",
    "from evidently.tests import TestColumnValueStd\n",
    "from evidently.tests import TestColumnQuantile \n",
    "\n",
    "from evidently.tests import TestHighlyCorrelatedColumns\n",
    "from evidently.tests import TestTargetFeaturesCorrelations\n",
    "from evidently.tests import TestPredictionFeaturesCorrelations\n",
    "from evidently.tests import TestCorrelationChanges\n",
    "from evidently.tests import TestNumberOfDriftedColumns\n",
    "from evidently.tests import TestShareOfDriftedColumns\n",
    "\n",
    "from evidently.descriptors import TextLength, TriggerWordsPresence, OOV, NonLetterCharacterPercentage"
   ]
  },
  {
   "cell_type": "code",
   "execution_count": null,
   "id": "a9640360",
   "metadata": {},
   "outputs": [],
   "source": [
    "import nltk\n",
    "nltk.download('words')\n",
    "nltk.download('wordnet')\n",
    "nltk.download('omw-1.4')"
   ]
  },
  {
   "cell_type": "code",
   "execution_count": null,
   "id": "2a490d0c",
   "metadata": {},
   "outputs": [],
   "source": [
    "#Data with Texts\n",
    "reviews_data = datasets.fetch_openml(name='Womens-E-Commerce-Clothing-Reviews', version=2, as_frame='auto')\n",
    "reviews = reviews_data.frame"
   ]
  },
  {
   "cell_type": "code",
   "execution_count": null,
   "id": "46341da3",
   "metadata": {},
   "outputs": [],
   "source": [
    "reviews['prediction'] = reviews['Rating']\n",
    "reviews_ref = reviews[reviews.Rating > 3].sample(n=5000, replace=True, ignore_index=True, random_state=42) \n",
    "reviews_cur = reviews[reviews.Rating < 3].sample(n=5000, replace=True, ignore_index=True, random_state=42)"
   ]
  },
  {
   "cell_type": "code",
   "execution_count": null,
   "id": "67001997",
   "metadata": {},
   "outputs": [],
   "source": [
    "column_mapping = ColumnMapping(\n",
    "    numerical_features=['Age', 'Positive_Feedback_Count'],\n",
    "    categorical_features=['Division_Name', 'Department_Name', 'Class_Name'],\n",
    "    text_features=['Review_Text', 'Title']\n",
    ")"
   ]
  },
  {
   "cell_type": "markdown",
   "id": "37020ef3",
   "metadata": {},
   "source": [
    "## Colum Metrics with Descriptors"
   ]
  },
  {
   "cell_type": "code",
   "execution_count": null,
   "id": "571dfac8",
   "metadata": {
    "scrolled": true
   },
   "outputs": [],
   "source": [
    "table_column_metrics_report = Report(metrics=[\n",
    "    ColumnDriftMetric(column_name = TextLength().for_column(\"Review_Text\")),\n",
    "    ColumnCorrelationsMetric(column_name = TextLength().for_column(\"Review_Text\")),\n",
    "    ColumnDistributionMetric(column_name = TextLength().for_column(\"Review_Text\")),\n",
    "    ColumnValueRangeMetric(column_name = TextLength().for_column(\"Review_Text\"), left=0, right=20)\n",
    "    \n",
    "])\n",
    "\n",
    "table_column_metrics_report.run(reference_data=reviews_ref, current_data=reviews_cur, column_mapping=column_mapping)\n",
    "table_column_metrics_report"
   ]
  },
  {
   "cell_type": "markdown",
   "id": "53cd8b2a",
   "metadata": {},
   "source": [
    "## Column Tests with Descriptors"
   ]
  },
  {
   "cell_type": "code",
   "execution_count": null,
   "id": "6d94c639",
   "metadata": {},
   "outputs": [],
   "source": [
    "table_column_test_suite = TestSuite(tests=[\n",
    "    TestColumnDrift(column_name = TextLength().for_column(\"Review_Text\")),\n",
    "    TestValueRange(column_name = TextLength().for_column(\"Review_Text\")),\n",
    "    TestNumberOfOutRangeValues(column_name = TextLength().for_column(\"Review_Text\")),\n",
    "    TestShareOfOutRangeValues(column_name = TextLength().for_column(\"Review_Text\")),\n",
    "    TestMeanInNSigmas(column_name = TextLength().for_column(\"Review_Text\")),\n",
    "    TestColumnValueMin(column_name = TextLength().for_column(\"Review_Text\")),\n",
    "    TestColumnValueMax(column_name = TextLength().for_column(\"Review_Text\")),\n",
    "    TestColumnValueMean(column_name = TextLength().for_column(\"Review_Text\")),\n",
    "    TestColumnValueMedian(column_name = TextLength().for_column(\"Review_Text\")),\n",
    "    TestColumnValueStd(column_name = TextLength().for_column(\"Review_Text\")),\n",
    "    TestColumnQuantile(column_name = TextLength().for_column(\"Review_Text\"), quantile=0.25),\n",
    "    \n",
    "])\n",
    "\n",
    "table_column_test_suite.run(reference_data=reviews_ref, current_data=reviews_cur, column_mapping=column_mapping)\n",
    "table_column_test_suite"
   ]
  },
  {
   "cell_type": "markdown",
   "id": "7db95a30",
   "metadata": {},
   "source": [
    "## Dataset Metrics with Descriptors\n",
    "Currently, only default descriptors configuration is available"
   ]
  },
  {
   "cell_type": "code",
   "execution_count": null,
   "id": "eb55abf8",
   "metadata": {},
   "outputs": [],
   "source": [
    "table_column_metrics_report = Report(metrics=[\n",
    "    DatasetDriftMetric(columns=[\"Age\", \"Review_Text\"]),\n",
    "    DataDriftTable(columns=[\"Age\", \"Review_Text\"]), \n",
    "    \n",
    "])\n",
    "\n",
    "table_column_metrics_report.run(reference_data=reviews_ref, current_data=reviews_cur, column_mapping=column_mapping)\n",
    "table_column_metrics_report"
   ]
  },
  {
   "cell_type": "code",
   "execution_count": null,
   "id": "6d9bc7b5",
   "metadata": {},
   "outputs": [],
   "source": [
    "regression_report = Report(metrics=[\n",
    "    RegressionErrorBiasTable(columns=[\"Age\", \"Review_Text\"]),\n",
    "    \n",
    "])\n",
    "\n",
    "regression_report.run(reference_data=reviews_ref, current_data=reviews_cur, column_mapping=ColumnMapping(\n",
    "    target='Rating',\n",
    "    prediction='prediction',\n",
    "    numerical_features=['Age', 'Positive_Feedback_Count'],\n",
    "    categorical_features=['Division_Name', 'Department_Name', 'Class_Name'],\n",
    "    text_features=['Review_Text', 'Title'],\n",
    "    task='regression'\n",
    "  )\n",
    ")\n",
    "regression_report"
   ]
  },
  {
   "cell_type": "code",
   "execution_count": null,
   "id": "8e81be0d",
   "metadata": {
    "scrolled": false
   },
   "outputs": [],
   "source": [
    "classification_report = Report(metrics=[\n",
    "    ClassificationQualityByFeatureTable(columns=[\"Age\", \"Review_Text\"]),\n",
    "\n",
    "])\n",
    "classification_report.run(reference_data=reviews_ref, current_data=reviews_cur, column_mapping=ColumnMapping(\n",
    "    target='Rating',\n",
    "    prediction='prediction',\n",
    "    numerical_features=['Age', 'Positive_Feedback_Count'],\n",
    "    categorical_features=['Division_Name', 'Department_Name', 'Class_Name'],\n",
    "    text_features=['Review_Text', 'Title'],\n",
    "    task='classification'\n",
    "  )\n",
    ")\n",
    "\n",
    "classification_report"
   ]
  },
  {
   "cell_type": "markdown",
   "id": "04f9daac",
   "metadata": {},
   "source": [
    "## Dataset Tests with Descriptors\n",
    "Currently, only default descriptors configuration is available"
   ]
  },
  {
   "cell_type": "code",
   "execution_count": null,
   "id": "495df999",
   "metadata": {
    "scrolled": true
   },
   "outputs": [],
   "source": [
    "table_dataset_test_suite = TestSuite(tests=[\n",
    "    TestNumberOfDriftedColumns(columns=[\"Age\", \"Review_Text\"]),\n",
    "    TestShareOfDriftedColumns(columns=[\"Age\", \"Review_Text\"]),\n",
    "    \n",
    "])\n",
    "\n",
    "table_dataset_test_suite.run(reference_data=reviews_ref, current_data=reviews_cur, column_mapping=ColumnMapping(\n",
    "    target='Rating',\n",
    "    prediction='prediction',\n",
    "    numerical_features=['Age', 'Positive_Feedback_Count'],\n",
    "    categorical_features=['Division_Name', 'Department_Name', 'Class_Name'],\n",
    "    text_features=['Review_Text', 'Title'],\n",
    "    task='regression'\n",
    "  ))\n",
    "table_dataset_test_suite"
   ]
  }
 ],
 "metadata": {
  "kernelspec": {
   "display_name": "Python 3 (ipykernel)",
   "language": "python",
   "name": "python3"
  },
  "language_info": {
   "codemirror_mode": {
    "name": "ipython",
    "version": 3
   },
   "file_extension": ".py",
   "mimetype": "text/x-python",
   "name": "python",
   "nbconvert_exporter": "python",
   "pygments_lexer": "ipython3",
   "version": "3.9.16"
  }
 },
 "nbformat": 4,
 "nbformat_minor": 5
}
